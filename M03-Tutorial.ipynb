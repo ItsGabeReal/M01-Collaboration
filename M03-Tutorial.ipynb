{
 "cells": [
  {
   "cell_type": "markdown",
   "metadata": {},
   "source": [
    "# Object Oriented Programming"
   ]
  },
  {
   "cell_type": "code",
   "execution_count": 6,
   "metadata": {},
   "outputs": [],
   "source": [
    "class OOPSolution:\n",
    "    def sort012(self,arr,n):\n",
    "        last_zero_index = -1\n",
    "        last_two_index = n\n",
    "        \n",
    "        i = 0\n",
    "        while i < last_two_index:\n",
    "            if arr[i] == 0:\n",
    "                last_zero_index += 1\n",
    "                arr[i] = arr[last_zero_index]\n",
    "                arr[last_zero_index] = 0\n",
    "                \n",
    "            elif arr[i] == 2:\n",
    "                last_two_index -= 1\n",
    "                arr[i] = arr[last_two_index]\n",
    "                arr[last_two_index] = 2\n",
    "                i -= 1\n",
    "                \n",
    "            i += 1"
   ]
  },
  {
   "cell_type": "markdown",
   "metadata": {},
   "source": [
    "# Functional Programming"
   ]
  },
  {
   "cell_type": "code",
   "execution_count": 7,
   "metadata": {},
   "outputs": [],
   "source": [
    "class FPSolution:\n",
    "\tdef binarysearch(self, arr, n, k):\n",
    "\t\tdef binarysearch_impl(start, end, k):\n",
    "\t\t\tmidpoint = start + (end - start) // 2\n",
    "\t\t\tif k == arr[midpoint]:\n",
    "\t\t\t\treturn midpoint\n",
    "\t\t\tif start == end:\n",
    "\t\t\t\treturn -1\n",
    "\t\t\tif k < arr[midpoint]:\n",
    "\t\t\t\treturn binarysearch_impl(start, midpoint - 1, k)\n",
    "\t\t\treturn binarysearch_impl(midpoint + 1, end, k)\n",
    "\t\t\t\n",
    "\t\treturn binarysearch_impl(0, n-1, k)"
   ]
  },
  {
   "cell_type": "code",
   "execution_count": 8,
   "metadata": {},
   "outputs": [
    {
     "data": {
      "text/plain": [
       "-1"
      ]
     },
     "execution_count": 8,
     "metadata": {},
     "output_type": "execute_result"
    }
   ],
   "source": [
    "test = FPSolution()\n",
    "arr = [0, 5, 10, 15, 50, 100, 1000]\n",
    "\n",
    "test.binarysearch(arr, len(arr), 16)"
   ]
  },
  {
   "cell_type": "code",
   "execution_count": 9,
   "metadata": {},
   "outputs": [
    {
     "data": {
      "text/plain": [
       "5"
      ]
     },
     "execution_count": 9,
     "metadata": {},
     "output_type": "execute_result"
    }
   ],
   "source": [
    "test.binarysearch(arr, len(arr), 100)"
   ]
  }
 ],
 "metadata": {
  "kernelspec": {
   "display_name": "Python 3",
   "language": "python",
   "name": "python3"
  },
  "language_info": {
   "codemirror_mode": {
    "name": "ipython",
    "version": 3
   },
   "file_extension": ".py",
   "mimetype": "text/x-python",
   "name": "python",
   "nbconvert_exporter": "python",
   "pygments_lexer": "ipython3",
   "version": "3.11.6"
  }
 },
 "nbformat": 4,
 "nbformat_minor": 2
}
